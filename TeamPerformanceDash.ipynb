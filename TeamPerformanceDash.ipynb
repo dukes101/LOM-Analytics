{
  "cells": [
    {
      "cell_type": "markdown",
      "metadata": {
        "id": "view-in-github",
        "colab_type": "text"
      },
      "source": [
        "<a href=\"https://colab.research.google.com/github/dukes101/LOM-Analytics/blob/main/TeamPerformanceDash.ipynb\" target=\"_parent\"><img src=\"https://colab.research.google.com/assets/colab-badge.svg\" alt=\"Open In Colab\"/></a>"
      ]
    },
    {
      "cell_type": "markdown",
      "metadata": {
        "id": "VNl_zvVKaYot"
      },
      "source": [
        "# Read in Data"
      ]
    },
    {
      "cell_type": "code",
      "execution_count": null,
      "metadata": {
        "id": "nW_PoWlZBOuV"
      },
      "outputs": [],
      "source": [
        "## Connect to google drive\n",
        "from google.colab import drive\n",
        "drive.mount('/content/drive')\n",
        "\n",
        "## Libraries\n",
        "!pip install dash\n",
        "!pip install plotly\n",
        "!pip install dash-ag-grid\n",
        "from dash import Dash, html, dash_table, dcc, callback, Output, Input\n",
        "import pandas as pd\n",
        "import plotly.express as px\n",
        "import dash_ag_grid as dag\n",
        "import plotly.graph_objects as go"
      ]
    },
    {
      "cell_type": "code",
      "source": [
        "## Year by Year Performance Summary for each team\n",
        "dfYearbyYear = pd.read_csv('/content/drive/My Drive/dfYearbyYear.csv')\n",
        "metric_list = dfYearbyYear.columns.to_list()[2:]\n",
        "\n",
        "## Year by Year Averages for entire league\n",
        "dfYearbyYearAvg = pd.read_csv('/content/drive/My Drive/dfYearbyYearAvg.csv')\n",
        "\n",
        "## Easiest/Toughest Opponent for each team\n",
        "dfEasyToughOpp = pd.read_csv('/content/drive/My Drive/dfVersus.csv')\n",
        "\n",
        "## List the top 3 best performance metrics for each team\n",
        "dfTopMetrics = pd.read_csv('/content/drive/My Drive/top_metrics_df.csv')\n",
        "\n",
        "## Lists the top 3 worst performance metrics for each team\n",
        "dfWorstMetrics = pd.read_csv('/content/drive/My Drive/worst_metrics_df.csv')\n",
        "\n",
        "## Performance Summary for each team (Championships, Top 3 Finishes, Playoff Appearances)\n",
        "dfTeamPerformance = pd.read_csv('/content/drive/My Drive/historicteamperformance.csv')"
      ],
      "metadata": {
        "id": "BuK6-lclh08y"
      },
      "execution_count": 4,
      "outputs": []
    },
    {
      "cell_type": "markdown",
      "metadata": {
        "id": "uASdbcXxaa4q"
      },
      "source": [
        "# Team Performance Dashboard"
      ]
    },
    {
      "cell_type": "code",
      "execution_count": 5,
      "metadata": {
        "colab": {
          "base_uri": "https://localhost:8080/",
          "height": 671
        },
        "id": "LT00CTeTactC",
        "outputId": "e45b1afb-8a48-45fc-fbf4-3880bc95ec05"
      },
      "outputs": [
        {
          "output_type": "display_data",
          "data": {
            "text/plain": [
              "<IPython.core.display.Javascript object>"
            ],
            "application/javascript": [
              "(async (port, path, width, height, cache, element) => {\n",
              "    if (!google.colab.kernel.accessAllowed && !cache) {\n",
              "      return;\n",
              "    }\n",
              "    element.appendChild(document.createTextNode(''));\n",
              "    const url = await google.colab.kernel.proxyPort(port, {cache});\n",
              "    const iframe = document.createElement('iframe');\n",
              "    iframe.src = new URL(path, url).toString();\n",
              "    iframe.height = height;\n",
              "    iframe.width = width;\n",
              "    iframe.style.border = 0;\n",
              "    iframe.allow = [\n",
              "        'accelerometer',\n",
              "        'autoplay',\n",
              "        'camera',\n",
              "        'clipboard-read',\n",
              "        'clipboard-write',\n",
              "        'gyroscope',\n",
              "        'magnetometer',\n",
              "        'microphone',\n",
              "        'serial',\n",
              "        'usb',\n",
              "        'xr-spatial-tracking',\n",
              "    ].join('; ');\n",
              "    element.appendChild(iframe);\n",
              "  })(8050, \"/\", \"100%\", 650, false, window.element)"
            ]
          },
          "metadata": {}
        }
      ],
      "source": [
        "app = Dash()\n",
        "app.layout = [\n",
        "\n",
        "    ## Dashboard Title\n",
        "    html.H1('Player Performance', style={'color': 'white', 'textAlign': 'center'})\n",
        "    ## Team Dropdown\n",
        "    ,dcc.Dropdown(\n",
        "        options=[{'label': i, 'value': i} for i in dfTeamPerformance['Team'].unique()]\n",
        "        ,value='Luca Hurst'\n",
        "        ,id='team-dropdown'\n",
        "        ,style={'width': '50%'})\n",
        "    ## Historic Performance Table\n",
        "    ,dag.AgGrid(\n",
        "        id='historic-performance-grid'\n",
        "        ,rowData=dfTeamPerformance.to_dict('records')\n",
        "        ,columnDefs=[{'field': i} for i in dfTeamPerformance.columns]\n",
        "        ,style={'width': '50%'}\n",
        "        #,dashGridOptions={'pagination': True, 'paginationPageSize': 5}\n",
        "    )\n",
        "    ## Metric Dropdown\n",
        "    ,dcc.Dropdown(\n",
        "        options=[{'label': col, 'value': col} for col in metric_list]\n",
        "        ,value='Points'\n",
        "        ,id='metric-dropdown'\n",
        "        ,style={'width': '50%'})\n",
        "    ## Dynamic Metric Figure\n",
        "    ,dcc.Graph(\n",
        "        figure={}\n",
        "        ,id='metric-by-year-graph'\n",
        "        ,style={'width': '50%'}\n",
        "    )\n",
        "    ]\n",
        "\n",
        "## Historic Performance Callback\n",
        "@callback(\n",
        "    Output('historic-performance-grid', 'rowData')\n",
        "    ,Input('team-dropdown', 'value')\n",
        ")\n",
        "## Updates table\n",
        "def update_historic_performance_grid(team):\n",
        "  return dfTeamPerformance[dfTeamPerformance['Team'] == team].to_dict('records')\n",
        "\n",
        "## Metric Figure Callback\n",
        "@callback(\n",
        "    Output('metric-by-year-graph', 'figure')\n",
        "    ,Input('team-dropdown', 'value')\n",
        "    ,Input('metric-dropdown', 'value')\n",
        ")\n",
        "\n",
        "## Updates figure based on team and metric selected\n",
        "def update_metric_by_year_graph(team, metric):\n",
        "\n",
        "  # Filter on team\n",
        "  dfYearbyYearTeam = dfYearbyYear[dfYearbyYear['Team'] == team]\n",
        "\n",
        "  # Create main line graph for selected metric\n",
        "  fig1 = px.line(dfYearbyYearTeam, x='Year', y=metric, title=f'{metric} by Year for {team}')\n",
        "  fig1.update_xaxes(type='category')\n",
        "\n",
        "  # Add a line for the historic averages\n",
        "  #avg_df = dfYearbyYearAvg[dfYearbyYearAvg['Year'].isin(dfYearbyYearTeam['Year'])]\n",
        "  #fig2 = px.line(avg_df, x='Year', y=metric, line_dash='dash', line_color='red')\n",
        "\n",
        "  #fig = go.Figure(data=fig1.data + fig2.data)\n",
        "  #fig.update_layout(title=f'{metric} by Year for {team}')\n",
        "  return fig1\n",
        "\n",
        "if __name__ == '__main__':\n",
        "    app.run(debug=True)"
      ]
    }
  ],
  "metadata": {
    "colab": {
      "toc_visible": true,
      "provenance": [],
      "authorship_tag": "ABX9TyMlCHlIY/bMZtkzDN9IZ1EL",
      "include_colab_link": true
    },
    "kernelspec": {
      "display_name": "Python 3",
      "name": "python3"
    },
    "language_info": {
      "name": "python"
    }
  },
  "nbformat": 4,
  "nbformat_minor": 0
}