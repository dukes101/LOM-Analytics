{
  "cells": [
    {
      "cell_type": "markdown",
      "metadata": {
        "id": "view-in-github",
        "colab_type": "text"
      },
      "source": [
        "<a href=\"https://colab.research.google.com/github/dukes101/LOM-Analytics/blob/main/TeamPerformanceDash.ipynb\" target=\"_parent\"><img src=\"https://colab.research.google.com/assets/colab-badge.svg\" alt=\"Open In Colab\"/></a>"
      ]
    },
    {
      "cell_type": "markdown",
      "metadata": {
        "id": "VNl_zvVKaYot"
      },
      "source": [
        "# Read in Data"
      ]
    },
    {
      "cell_type": "code",
      "execution_count": 23,
      "metadata": {
        "id": "nW_PoWlZBOuV",
        "colab": {
          "base_uri": "https://localhost:8080/"
        },
        "outputId": "fdea995e-bd2f-4cdf-bd3e-9cfd7c1608b7"
      },
      "outputs": [
        {
          "output_type": "stream",
          "name": "stdout",
          "text": [
            "Drive already mounted at /content/drive; to attempt to forcibly remount, call drive.mount(\"/content/drive\", force_remount=True).\n"
          ]
        }
      ],
      "source": [
        "## Connect to google drive\n",
        "from google.colab import drive\n",
        "drive.mount('/content/drive')\n",
        "\n",
        "## Libraries\n",
        "#!pip install dash\n",
        "#!pip install plotly\n",
        "#!pip install dash-ag-grid\n",
        "from dash import Dash, html, dash_table, dcc, callback, Output, Input\n",
        "import pandas as pd\n",
        "import plotly.express as px\n",
        "import dash_ag_grid as dag\n",
        "import plotly.graph_objects as go"
      ]
    },
    {
      "cell_type": "code",
      "source": [
        "## Year by Year Performance Summary for each team\n",
        "dfYearbyYear = pd.read_csv('/content/drive/My Drive/dfYearbyYear.csv')\n",
        "metric_list = dfYearbyYear.columns.to_list()[2:]\n",
        "\n",
        "## Year by Year Averages for entire league\n",
        "dfYearbyYearAvg = pd.read_csv('/content/drive/My Drive/dfYearbyYearAvg.csv')\n",
        "\n",
        "## Easiest/Toughest Opponent for each team\n",
        "dfEasyToughOpp = pd.read_csv('/content/drive/My Drive/dfVersus.csv')\n",
        "\n",
        "## List all performance metrics for each team\n",
        "dfAllMetrics = pd.read_csv('/content/drive/My Drive/all_metrics_df.csv')\n",
        "my_list = list(range(len(dfAllMetrics[dfAllMetrics['Team'] == 'Luca Hurst'])))\n",
        "\n",
        "## List the top 3 best performance metrics for each team\n",
        "dfTopMetrics = pd.read_csv('/content/drive/My Drive/top_metrics_df.csv')\n",
        "\n",
        "## Lists the top 3 worst performance metrics for each team\n",
        "dfWorstMetrics = pd.read_csv('/content/drive/My Drive/worst_metrics_df.csv')\n",
        "\n",
        "## Performance Summary for each team (Championships, Top 3 Finishes, Playoff Appearances)\n",
        "dfTeamPerformance = pd.read_csv('/content/drive/My Drive/historicteamperformance.csv')"
      ],
      "metadata": {
        "id": "BuK6-lclh08y"
      },
      "execution_count": 29,
      "outputs": []
    },
    {
      "cell_type": "markdown",
      "metadata": {
        "id": "uASdbcXxaa4q"
      },
      "source": [
        "# Team Performance Dashboard"
      ]
    },
    {
      "cell_type": "code",
      "execution_count": 31,
      "metadata": {
        "colab": {
          "base_uri": "https://localhost:8080/",
          "height": 671
        },
        "id": "LT00CTeTactC",
        "outputId": "0b6e432d-01f9-44c3-875d-75f900a47dcb"
      },
      "outputs": [
        {
          "output_type": "display_data",
          "data": {
            "text/plain": [
              "<IPython.core.display.Javascript object>"
            ],
            "application/javascript": [
              "(async (port, path, width, height, cache, element) => {\n",
              "    if (!google.colab.kernel.accessAllowed && !cache) {\n",
              "      return;\n",
              "    }\n",
              "    element.appendChild(document.createTextNode(''));\n",
              "    const url = await google.colab.kernel.proxyPort(port, {cache});\n",
              "    const iframe = document.createElement('iframe');\n",
              "    iframe.src = new URL(path, url).toString();\n",
              "    iframe.height = height;\n",
              "    iframe.width = width;\n",
              "    iframe.style.border = 0;\n",
              "    iframe.allow = [\n",
              "        'accelerometer',\n",
              "        'autoplay',\n",
              "        'camera',\n",
              "        'clipboard-read',\n",
              "        'clipboard-write',\n",
              "        'gyroscope',\n",
              "        'magnetometer',\n",
              "        'microphone',\n",
              "        'serial',\n",
              "        'usb',\n",
              "        'xr-spatial-tracking',\n",
              "    ].join('; ');\n",
              "    element.appendChild(iframe);\n",
              "  })(8050, \"/\", \"100%\", 650, false, window.element)"
            ]
          },
          "metadata": {}
        }
      ],
      "source": [
        "app = Dash()\n",
        "app.layout = [\n",
        "\n",
        "    html.Div([\n",
        "    ## Dashboard Title\n",
        "    html.H1('Player Performance', style={'color': 'white', 'textAlign': 'center'})\n",
        "    ## Team Dropdown\n",
        "    ,html.Label('Select Team:', style={'font-size': '20px', 'font-weight': 'bold', 'margin-right': '10px', 'color': 'white'})\n",
        "    ,dcc.Dropdown(\n",
        "        options=[{'label': i, 'value': i} for i in dfTeamPerformance['Team'].unique()]\n",
        "        ,value='Luca Hurst'\n",
        "        ,id='team-dropdown'\n",
        "        #,style={'width': '70%'}\n",
        "        )\n",
        "    ,html.Div([\n",
        "    ## Historic Performance Table\n",
        "    dag.AgGrid(\n",
        "        id='historic-performance-grid'\n",
        "        ,rowData=dfTeamPerformance.to_dict('records')\n",
        "        ,columnDefs=[{'field': 'Metric'}, {'field': 'Value'}]\n",
        "        ,style={'width': '50%'}\n",
        "        ,columnSize=\"responsiveSizeToFit\"\n",
        "        #,dashGridOptions={\"headerHeight\":0, 'fillHorizontal': True}\n",
        "    )\n",
        "    ## Best Performance Metrics Table\n",
        "    ,dag.AgGrid(\n",
        "        id='best-performance-grid'\n",
        "        ,rowData=dfAllMetrics.to_dict('records')\n",
        "        ,columnDefs=[{'field': 'Metric'}, {'field': 'Value'}, {'field': 'League Rank'}]\n",
        "        ,style={'width': '50%'}\n",
        "        ,columnSize=\"responsiveSizeToFit\"\n",
        "        #,dashGridOptions={\"headerHeight\":0, 'fillHorizontal': True}\n",
        "        )\n",
        "    ], style={'display': 'flex', 'flex-direction': 'row'})\n",
        "    ## Metric Dropdown\n",
        "    ,html.Label('Select Metric:', style={'font-size': '20px', 'font-weight': 'bold', 'margin-right': '10px', 'color': 'white'})\n",
        "    ,dcc.Dropdown(\n",
        "        options=[{'label': col, 'value': col} for col in metric_list]\n",
        "        ,value='Points'\n",
        "        ,id='metric-dropdown'\n",
        "        #,style={'width': '70%'}\n",
        "        )\n",
        "    ## Dynamic Metric Figure\n",
        "    ,dcc.Graph(\n",
        "        figure={}\n",
        "        ,id='metric-by-year-graph'\n",
        "        #,style={'width': '50%'}\n",
        "    )])\n",
        "    ]\n",
        "\n",
        "\n",
        "## Historic Performance Callback\n",
        "@callback(\n",
        "    Output('historic-performance-grid', 'rowData')\n",
        "    ,Input('team-dropdown', 'value')\n",
        ")\n",
        "## Updates historic table\n",
        "def update_historic_performance_grid(team):\n",
        "  df_filtered = dfTeamPerformance[dfTeamPerformance['Team'] == team]\n",
        "  data = [{'Metric': col, 'Value': df_filtered[col].iloc[0]} for col in ['Championships', 'Top 3 Finishes', 'Playoff Appearances']]\n",
        "  return data\n",
        "\n",
        "## Best Performance Callback\n",
        "@callback(\n",
        "    Output('best-performance-grid', 'rowData')\n",
        "    ,Input('team-dropdown', 'value')\n",
        ")\n",
        "## Updates top metric table\n",
        "def update_top_metric_table(team):\n",
        "  df_filtered = dfAllMetrics[dfAllMetrics['Team'] == team]\n",
        "  data = [{'Metric': df_filtered['Metric'].iloc[row], 'Value': df_filtered['Value'].iloc[row], 'League Rank': df_filtered['League Rank'].iloc[row]} for row in my_list]\n",
        "  return data\n",
        "\n",
        "## Metric Figure Callback\n",
        "@callback(\n",
        "    Output('metric-by-year-graph', 'figure')\n",
        "    ,Input('team-dropdown', 'value')\n",
        "    ,Input('metric-dropdown', 'value')\n",
        ")\n",
        "\n",
        "## Updates figure based on team and metric selected\n",
        "def update_metric_by_year_graph(team, metric):\n",
        "\n",
        "  # Filter on team\n",
        "  dfYearbyYearTeam = dfYearbyYear[dfYearbyYear['Team'] == team]\n",
        "\n",
        "  # Create main line graph for selected metric\n",
        "  fig1 = px.line(dfYearbyYearTeam, x='Year', y=metric, title=f'{metric} by Year for {team}')\n",
        "  fig1.update_xaxes(type='category')\n",
        "\n",
        "  # Add a line for the historic averages\n",
        "  #avg_df = dfYearbyYearAvg[dfYearbyYearAvg['Year'].isin(dfYearbyYearTeam['Year'])]\n",
        "  #fig2 = px.line(avg_df, x='Year', y=metric, line_dash='dash', line_color='red')\n",
        "\n",
        "  #fig = go.Figure(data=fig1.data + fig2.data)\n",
        "  #fig.update_layout(title=f'{metric} by Year for {team}')\n",
        "  return fig1\n",
        "\n",
        "if __name__ == '__main__':\n",
        "    app.run(debug=True)"
      ]
    }
  ],
  "metadata": {
    "colab": {
      "provenance": [],
      "authorship_tag": "ABX9TyML7WLw6zZmeT06ZKAfzfde",
      "include_colab_link": true
    },
    "kernelspec": {
      "display_name": "Python 3",
      "name": "python3"
    },
    "language_info": {
      "name": "python"
    }
  },
  "nbformat": 4,
  "nbformat_minor": 0
}